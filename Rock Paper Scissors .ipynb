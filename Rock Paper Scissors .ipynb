{
 "cells": [
  {
   "cell_type": "code",
   "execution_count": null,
   "id": "116b0d9b",
   "metadata": {},
   "outputs": [
    {
     "name": "stdout",
     "output_type": "stream",
     "text": [
      "Rock, Paper, Scissors?Rock\n",
      "Tie!\n",
      "Rock, Paper, Scissors?Rock\n",
      "You lose! Paper covers Rock\n",
      "Let's guess the number on the dice face\n",
      "Type 1 if you think it's 1, 2 or 3\n",
      "type 2 if you think it's 4, 5 or 6\n",
      "1\n",
      "Wrong answer! Game Over.\n",
      "Your score is 0\n"
     ]
    }
   ],
   "source": [
    "'''เกมเป่ายิงฉุบตามด้วยทอยลูกเต๋า เริ่มจากเป่ายิงฉุ่บแข่งกับคอมพิวเตอร์และจะนับแต้มว่าชนะคอมกี่ครั้ง แต่ถ้าแพ้จะต้องไปเล่นทอยลูกเต๋าต่อ ลูกเต๋าจะมี6หน้า\n",
    "ต้องทายว่าลูเต๋านั้นเป็นเลข1-3 หรือ 4-6 ถ้าทายผิดก็จะแพ้ทันทีแต่ถ้าทายถูกก็จะได้รับโอกาสกลับไปเล่นเป่ายิงฉุ่บต่อได้'''\n",
    "from random import randint\n",
    "\n",
    "play = ['Rock', 'Paper', 'Scissors']\n",
    "dice = [1, 2, 3, 4, 5, 6]\n",
    "score = 0\n",
    "gameover = False\n",
    "play_dice = False\n",
    "\n",
    "while not gameover:\n",
    "    computer = play[randint(0, 2)]\n",
    "    player = input('Rock, Paper, Scissors?').strip()\n",
    "    \n",
    "    if player == computer:\n",
    "        print('Tie!')\n",
    "    elif player == 'Rock':\n",
    "        if computer == 'Paper':\n",
    "            print('You lose!', computer, 'covers', player)\n",
    "            play_dice = True\n",
    "        else:\n",
    "            print('You win!', player, 'smashes', computer)\n",
    "            score += 1\n",
    "    elif player == 'Paper':\n",
    "        if computer == 'Scissors':\n",
    "            print('You lose!', computer, 'cut', player)\n",
    "            play_dice = True\n",
    "        else:\n",
    "            print('You win!', player, 'covers', computer)\n",
    "            score += 1\n",
    "    elif player == 'Scissors':\n",
    "        if computer == 'Rock':\n",
    "            print('You lose!', computer, 'smashes', player)\n",
    "            play_dice = True\n",
    "        else:\n",
    "            print('You win!', player, 'cut', computer)\n",
    "            score += 1\n",
    "    else:\n",
    "        print('Invalid play. Please type Rock/Paper/Scissors')\n",
    "        \n",
    "    if play_dice:\n",
    "        number = dice[randint(0, 5)]\n",
    "        print('Let\\'s guess the number on the dice face')\n",
    "        print('Type 1 if you think it\\'s 1, 2 or 3')\n",
    "        print('type 2 if you think it\\'s 4, 5 or 6')\n",
    "        guess = int(input().strip())\n",
    "        \n",
    "        while guess != 1 and guess != 2:\n",
    "            print('Invalid guess Please type 1 or 2')\n",
    "            guess = int(input().strip())\n",
    "        if guess == 1:\n",
    "            if number <= 3:\n",
    "                print('You\\'re right!')\n",
    "                play_dice = False\n",
    "            else:\n",
    "                print('Wrong answer! Game Over.\\nYour score is', score)\n",
    "                game_over = True\n",
    "        else:\n",
    "            if number >= 4:\n",
    "                print('You\\'re right!')\n",
    "                play_dice = False\n",
    "            else:\n",
    "                print('Wrong answer! Game Over. \\nYour score is', score)\n",
    "                game_over = True\n"
   ]
  },
  {
   "cell_type": "code",
   "execution_count": null,
   "id": "9527b0a0",
   "metadata": {},
   "outputs": [],
   "source": []
  }
 ],
 "metadata": {
  "kernelspec": {
   "display_name": "Python 3 (ipykernel)",
   "language": "python",
   "name": "python3"
  },
  "language_info": {
   "codemirror_mode": {
    "name": "ipython",
    "version": 3
   },
   "file_extension": ".py",
   "mimetype": "text/x-python",
   "name": "python",
   "nbconvert_exporter": "python",
   "pygments_lexer": "ipython3",
   "version": "3.10.7"
  }
 },
 "nbformat": 4,
 "nbformat_minor": 5
}
